{
 "cells": [
  {
   "cell_type": "markdown",
   "metadata": {},
   "source": [
    "## What is the true normal human body temperature? \n",
    "\n",
    "#### Background\n",
    "\n",
    "The mean normal body temperature was held to be 37$^{\\circ}$C or 98.6$^{\\circ}$F for more than 120 years since it was first conceptualized and reported by Carl Wunderlich in a famous 1868 book. In 1992, this value was revised to 36.8$^{\\circ}$C or 98.2$^{\\circ}$F. \n",
    "\n",
    "#### Exercise\n",
    "In this exercise, you will analyze a dataset of human body temperatures and employ the concepts of hypothesis testing, confidence intervals, and statistical significance.\n",
    "\n",
    "Answer the following questions **in this notebook below and submit to your Github account**. \n",
    "\n",
    "1.  Is the distribution of body temperatures normal? \n",
    "    - Remember that this is a condition for the CLT, and hence the statistical tests we are using, to apply. \n",
    "2.  Is the true population mean really 98.6 degrees F?\n",
    "    - Bring out the one sample hypothesis test! In this situation, is it approriate to apply a z-test or a t-test? How will the result be different?\n",
    "3.  At what temperature should we consider someone's temperature to be \"abnormal\"?\n",
    "    - Start by computing the margin of error and confidence interval.\n",
    "4.  Is there a significant difference between males and females in normal temperature?\n",
    "    - Set up and solve for a two sample hypothesis testing.\n",
    "\n",
    "You can include written notes in notebook cells using Markdown: \n",
    "   - In the control panel at the top, choose Cell > Cell Type > Markdown\n",
    "   - Markdown syntax: http://nestacms.com/docs/creating-content/markdown-cheat-sheet\n",
    "\n",
    "#### Resources\n",
    "\n",
    "+ Information and data sources: http://www.amstat.org/publications/jse/datasets/normtemp.txt, http://www.amstat.org/publications/jse/jse_data_archive.htm\n",
    "+ Markdown syntax: http://nestacms.com/docs/creating-content/markdown-cheat-sheet\n",
    "\n",
    "****"
   ]
  },
  {
   "cell_type": "code",
   "execution_count": 1,
   "metadata": {
    "collapsed": true
   },
   "outputs": [],
   "source": [
    "import pandas as pd"
   ]
  },
  {
   "cell_type": "code",
   "execution_count": 7,
   "metadata": {
    "collapsed": false
   },
   "outputs": [],
   "source": [
    "df = pd.read_csv('data/human_body_temperature.csv')\n"
   ]
  },
  {
   "cell_type": "code",
   "execution_count": 23,
   "metadata": {
    "collapsed": false
   },
   "outputs": [
    {
     "name": "stdout",
     "output_type": "stream",
     "text": [
      "Mean of Male Population  98.1046153846\n",
      "Count of Male Population  65\n"
     ]
    }
   ],
   "source": [
    "print 'Mean of Male Population ', df[df['gender']=='M']['temperature'].mean()\n",
    "\n",
    "print 'Count of Male Population ', df[df['gender']=='M']['temperature'].count()\n",
    "#print df\n",
    "    "
   ]
  },
  {
   "cell_type": "markdown",
   "metadata": {},
   "source": [
    "## Is the distribution of body temperatures normal?\n",
    "Considering all the individual samples as Random Variables, arithmatic mean of all (large number of) samples would be distributed Normally (A Normal Distribution).  \n"
   ]
  },
  {
   "cell_type": "markdown",
   "metadata": {},
   "source": [
    "## Is the true population mean really 98.6 degrees F?\n",
    "Following steps need to be followed to determine if mean actually is 98.6.\n",
    "H0: 98.6 is actually the Population mean.\n",
    "H1: This is not Population mean. \n",
    "    1- Total number of samples under consideration are 130 and sample mean and sample standard deviation can be used to determine the population mean and population standard deviation, I would follow z-statistics.\n",
    "    2- Compute sample mean(u0) and unbiased sample standard deviation(s) and standard deviation of sampled mean sd_m = (s/(n)^(1/2)). Assuming Null Hypothesis is true, U0 = 98.6. Sample under consideration is the sample mean (U1).\n",
    "    3- Now consider margin of error as 5%, alpha = 0.05. This is an example of Double ended tail statistics. \n",
    "    Differece of (U1-U0) >= z*(sd_m) than NULL Hypothesis (H0) is Rejected and alternate Hypothesis is expected."
   ]
  },
  {
   "cell_type": "code",
   "execution_count": 35,
   "metadata": {
    "collapsed": false
   },
   "outputs": [
    {
     "name": "stdout",
     "output_type": "stream",
     "text": [
      "sample mean is  98.2492307692\n"
     ]
    }
   ],
   "source": [
    "U1=sample_mean = df['temperature'].mean()\n",
    "print 'sample mean is ', sample_mean"
   ]
  },
  {
   "cell_type": "code",
   "execution_count": 36,
   "metadata": {
    "collapsed": false
   },
   "outputs": [
    {
     "name": "stdout",
     "output_type": "stream",
     "text": [
      "sample standard deviation is  0.733183158039\n"
     ]
    }
   ],
   "source": [
    "sample_sd = df['temperature'].std()\n",
    "print 'sample standard deviation is ', sample_sd"
   ]
  },
  {
   "cell_type": "code",
   "execution_count": 37,
   "metadata": {
    "collapsed": false
   },
   "outputs": [
    {
     "name": "stdout",
     "output_type": "stream",
     "text": [
      "Total number of samples is  130\n",
      "Mean of Standard Deviation  0.0643044168379\n"
     ]
    }
   ],
   "source": [
    "import math\n",
    "n = df['temperature'].count()\n",
    "print 'Total number of samples is ', n\n",
    "sample_mean_sd = sample_sd/(math.sqrt(130))\n",
    "print 'Mean of Standard Deviation ', sample_mean_sd\n",
    "z = 1.96 #2 tail, alpha = 0.05"
   ]
  },
  {
   "cell_type": "code",
   "execution_count": 46,
   "metadata": {
    "collapsed": false
   },
   "outputs": [
    {
     "name": "stdout",
     "output_type": "stream",
     "text": [
      "U0 =  98.6\n",
      "U1 =  98.2492307692\n",
      "Z-Value is  1.96\n",
      "NULL Hypothesis is incorrect: 98.6 is not the mean Human temperature\n"
     ]
    }
   ],
   "source": [
    "U0=98.6\n",
    "#U0=98.2\n",
    "print \"U0 = \", U0\n",
    "print \"U1 = \", U1\n",
    "print \"Z-Value is \",z\n",
    "\n",
    "if abs(U1-U0) < z*sample_mean_sd :\n",
    "    print \"NULL Hypothesis is correct:\", U0, \"is the mean Human temperature.\"\n",
    "else: print \"NULL Hypothesis is incorrect:\", U0, \"is not the mean Human temperature\""
   ]
  },
  {
   "cell_type": "markdown",
   "metadata": {},
   "source": [
    "Because recently revised mean temperature (98.2) is also validated by our NULL Hpothesis for given sample statistics, Normal Temperature range would be 98.2 +/- z*sample_mead_sd   "
   ]
  },
  {
   "cell_type": "code",
   "execution_count": 48,
   "metadata": {
    "collapsed": false
   },
   "outputs": [],
   "source": [
    "min, max = [98.2-z*sample_mean_sd, 98.2+z*sample_mean_sd]"
   ]
  },
  {
   "cell_type": "code",
   "execution_count": 51,
   "metadata": {
    "collapsed": false
   },
   "outputs": [
    {
     "name": "stdout",
     "output_type": "stream",
     "text": [
      "Normal Temperature Range is between  98.073963343  to  98.326036657\n"
     ]
    }
   ],
   "source": [
    "print \"Normal Temperature Range is between \", min, \" to \", max "
   ]
  },
  {
   "cell_type": "markdown",
   "metadata": {},
   "source": [
    "## Is there a significant difference between males and females in normal temperature?"
   ]
  },
  {
   "cell_type": "code",
   "execution_count": 52,
   "metadata": {
    "collapsed": true
   },
   "outputs": [],
   "source": [
    "df_male = df[df['gender']=='M']['temperature']"
   ]
  },
  {
   "cell_type": "code",
   "execution_count": 53,
   "metadata": {
    "collapsed": true
   },
   "outputs": [],
   "source": [
    "df_female = df[df['gender']=='F']['temperature']"
   ]
  },
  {
   "cell_type": "code",
   "execution_count": 54,
   "metadata": {
    "collapsed": true
   },
   "outputs": [],
   "source": [
    "mean_m = df_male.mean()\n",
    "mean_f = df_female.mean()"
   ]
  },
  {
   "cell_type": "code",
   "execution_count": 59,
   "metadata": {
    "collapsed": false
   },
   "outputs": [
    {
     "name": "stdout",
     "output_type": "stream",
     "text": [
      "Male: Mean:  98.1046153846 SD:  0.698755762327 SD of Mean of Samples:  0.0866699855229\n",
      "Female: Mean:  98.3938461538 SD:  0.743487752731 SD of Mean of Samples:  0.0922183060804\n"
     ]
    }
   ],
   "source": [
    "s_sd_m = df_male.std() #sample standard distribution\n",
    "s_sd_f = df_female.std() #sample standard distribution\n",
    "n_m = df_male.count()\n",
    "n_f = df_female.count()\n",
    "sd_mean_m = s_sd_m/(math.sqrt(n_m))\n",
    "sd_mean_f = s_sd_f/(math.sqrt(n_f))\n",
    "print \"Male: Mean: \",mean_m, \"SD: \", s_sd_m, \"SD of Mean of Samples: \", sd_mean_m\n",
    "print \"Female: Mean: \",mean_f, \"SD: \",s_sd_f, \"SD of Mean of Samples: \", sd_mean_f"
   ]
  },
  {
   "cell_type": "markdown",
   "metadata": {},
   "source": [
    "#### R_MALE : Random Variable representing Male Statistics:\n",
    "#### R_FEMALE: Random Variable representing Female Statistics:\n",
    "#### Assume a new Random Variable Z = R_FEMALE - R_MALE   \n",
    "#### UZ =  UF - UM\n",
    "#### SD_Z = SD_M + SD_F"
   ]
  },
  {
   "cell_type": "code",
   "execution_count": 65,
   "metadata": {
    "collapsed": false
   },
   "outputs": [
    {
     "name": "stdout",
     "output_type": "stream",
     "text": [
      "Mean of Z:  0.289230769231 SD of Mean of Samples: 0.178888291603\n"
     ]
    }
   ],
   "source": [
    "sd_mean_z = sd_mean_m + sd_mean_f\n",
    "UZ = abs(mean_f - mean_m)\n",
    "print \"Mean of Z: \", UZ, \"SD of Mean of Samples:\", sd_mean_z\n"
   ]
  },
  {
   "cell_type": "code",
   "execution_count": 67,
   "metadata": {
    "collapsed": false
   },
   "outputs": [
    {
     "name": "stdout",
     "output_type": "stream",
     "text": [
      "NULL HYPOTHESIS in Valid: Male Statistics is equivalent to female.\n"
     ]
    }
   ],
   "source": [
    "z_val = 1.96\n",
    "if UZ < z_val*sd_mean_z:\n",
    "    print \"NULL HYPOTHESIS in Valid: Male Statistics is equivalent to female.\"\n",
    "else: print \"NULL HYPOTHESIS in not valid: Male Statistics is different from female HYPOTHESIS.\""
   ]
  },
  {
   "cell_type": "code",
   "execution_count": null,
   "metadata": {
    "collapsed": true
   },
   "outputs": [],
   "source": []
  }
 ],
 "metadata": {
  "kernelspec": {
   "display_name": "Python 2",
   "language": "python",
   "name": "python2"
  },
  "language_info": {
   "codemirror_mode": {
    "name": "ipython",
    "version": 2
   },
   "file_extension": ".py",
   "mimetype": "text/x-python",
   "name": "python",
   "nbconvert_exporter": "python",
   "pygments_lexer": "ipython2",
   "version": "2.7.11"
  }
 },
 "nbformat": 4,
 "nbformat_minor": 0
}
