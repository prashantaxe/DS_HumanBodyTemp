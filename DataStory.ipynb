{
 "cells": [
  {
   "cell_type": "code",
   "execution_count": 17,
   "metadata": {
    "collapsed": true
   },
   "outputs": [],
   "source": [
    "import pandas as pd\n",
    "import numpy as np\n",
    "import matplotlib.pyplot as plt"
   ]
  },
  {
   "cell_type": "code",
   "execution_count": 18,
   "metadata": {
    "collapsed": false
   },
   "outputs": [],
   "source": [
    "fec_df = pd.read_csv('P00000001D-ALL.csv')"
   ]
  },
  {
   "cell_type": "code",
   "execution_count": 19,
   "metadata": {
    "collapsed": false
   },
   "outputs": [
    {
     "name": "stdout",
     "output_type": "stream",
     "text": [
      "C00458844     500.00\n",
      "C00458844    2500.00\n",
      "C00458844    1000.00\n",
      "C00458844    2000.00\n",
      "C00458844     336.09\n",
      "Name: recipient_nm, dtype: float64\n"
     ]
    }
   ],
   "source": [
    "print fec_df['recipient_nm'].head()\n",
    "#print fec_df['disb_amt'].head()"
   ]
  },
  {
   "cell_type": "code",
   "execution_count": 20,
   "metadata": {
    "collapsed": false
   },
   "outputs": [
    {
     "name": "stdout",
     "output_type": "stream",
     "text": [
      "cmte_id           174608\n",
      "cand_id           174608\n",
      "cand_nm           174608\n",
      "recipient_nm      174608\n",
      "disb_amt          174608\n",
      "disb_dt           174585\n",
      "recipient_city    174608\n",
      "recipient_st      174545\n",
      "recipient_zip     174572\n",
      "disb_desc         104944\n",
      "memo_cd            19632\n",
      "memo_text         174608\n",
      "form_tp           174608\n",
      "file_num          174608\n",
      "tran_id           132233\n",
      "election_tp            0\n",
      "dtype: int64\n"
     ]
    }
   ],
   "source": [
    "fec_clean_df = fec_df [fec_df['recipient_nm'].notnull()]\n",
    "print fec_df.count()"
   ]
  },
  {
   "cell_type": "code",
   "execution_count": 21,
   "metadata": {
    "collapsed": false
   },
   "outputs": [
    {
     "name": "stdout",
     "output_type": "stream",
     "text": [
      "C00458844     500.00\n",
      "C00458844    2500.00\n",
      "C00458844    1000.00\n",
      "C00458844    2000.00\n",
      "C00458844     336.09\n",
      "Name: recipient_nm, dtype: float64\n"
     ]
    }
   ],
   "source": [
    "print fec_df['recipient_nm'].head()"
   ]
  },
  {
   "cell_type": "code",
   "execution_count": 22,
   "metadata": {
    "collapsed": false
   },
   "outputs": [
    {
     "data": {
      "text/plain": [
       "C00458844      500.00\n",
       "C00458844     2500.00\n",
       "C00458844     1000.00\n",
       "C00458844     2000.00\n",
       "C00458844      336.09\n",
       "C00458844    10000.00\n",
       "C00458844      500.00\n",
       "C00458844      250.00\n",
       "C00458844      857.50\n",
       "C00458844      381.50\n",
       "C00458844      313.50\n",
       "C00458844     2000.00\n",
       "C00458844     3200.00\n",
       "C00458844      857.50\n",
       "C00458844       62.98\n",
       "C00458844       42.63\n",
       "C00458844      129.03\n",
       "C00458844    12708.24\n",
       "C00458844     2870.48\n",
       "C00458844     6158.29\n",
       "C00458844       19.49\n",
       "C00458844       38.79\n",
       "C00458844      118.98\n",
       "C00458844      696.16\n",
       "C00458844      329.45\n",
       "C00458844        8.21\n",
       "C00458844       31.10\n",
       "C00458844      129.03\n",
       "C00458844      486.34\n",
       "C00458844      112.60\n",
       "               ...   \n",
       "C00605568     7700.00\n",
       "C00605568     2900.00\n",
       "C00605568     2000.00\n",
       "C00605568    13000.00\n",
       "C00605568     4000.00\n",
       "C00605568     1400.00\n",
       "C00605568       44.57\n",
       "C00605568     3750.00\n",
       "C00605568     3000.00\n",
       "C00605568    10000.00\n",
       "C00605568     2500.00\n",
       "C00605568    10000.00\n",
       "C00605568    10000.00\n",
       "C00605568     6000.00\n",
       "C00605568     3000.00\n",
       "C00605568     6000.00\n",
       "C00605568     1000.00\n",
       "C00605568     2800.99\n",
       "C00605568      634.76\n",
       "C00605568       79.10\n",
       "C00605568     1500.00\n",
       "C00605568     7000.00\n",
       "C00605568     2000.00\n",
       "C00605568     2000.00\n",
       "C00605568     2000.00\n",
       "C00605568     1500.00\n",
       "C00605568      800.00\n",
       "C00605568     2100.00\n",
       "C00605568     2130.08\n",
       "C00605568      781.25\n",
       "Name: recipient_nm, dtype: float64"
      ]
     },
     "execution_count": 22,
     "metadata": {},
     "output_type": "execute_result"
    }
   ],
   "source": [
    "fec_df['recipient_nm']"
   ]
  },
  {
   "cell_type": "code",
   "execution_count": 23,
   "metadata": {
    "collapsed": false
   },
   "outputs": [
    {
     "name": "stdout",
     "output_type": "stream",
     "text": [
      "4263.58249714\n"
     ]
    }
   ],
   "source": [
    "receipt_nm_mean = fec_df['recipient_nm'].mean()\n",
    "print receipt_nm_mean"
   ]
  },
  {
   "cell_type": "code",
   "execution_count": 24,
   "metadata": {
    "collapsed": false
   },
   "outputs": [
    {
     "name": "stdout",
     "output_type": "stream",
     "text": [
      "57214.017339\n"
     ]
    }
   ],
   "source": [
    "receipt_nm_std = fec_df['recipient_nm'].std()\n",
    "print receipt_nm_std"
   ]
  },
  {
   "cell_type": "code",
   "execution_count": 25,
   "metadata": {
    "collapsed": false
   },
   "outputs": [
    {
     "name": "stdout",
     "output_type": "stream",
     "text": [
      "C00575795     -64397.70\n",
      "C00577312     -61576.00\n",
      "C00580100     -35500.00\n",
      "C00574624     -34935.00\n",
      "C00577130     -29147.82\n",
      "C00577130     -28792.43\n",
      "C00574624     -26167.58\n",
      "C00579458     -24938.84\n",
      "C00575795     -22426.66\n",
      "C00577130     -21489.71\n",
      "C00577312     -20000.00\n",
      "C00577130     -19508.75\n",
      "C00577130     -16597.48\n",
      "C00577130     -14072.63\n",
      "C00575795     -14000.00\n",
      "C00573519     -13393.24\n",
      "C00458844     -12528.92\n",
      "C00458844     -12358.79\n",
      "C00580399     -11521.04\n",
      "C00577130     -11238.07\n",
      "C00458844      -9855.66\n",
      "C00575795      -9408.42\n",
      "C00575795      -9036.63\n",
      "C00577130      -8996.44\n",
      "C00580100      -8829.85\n",
      "C00580100      -8000.00\n",
      "C00580100      -7897.75\n",
      "C00458844      -7750.00\n",
      "C00577130      -7548.10\n",
      "C00577130      -7506.43\n",
      "                ...    \n",
      "C00577130    1922100.00\n",
      "C00577130    1935002.00\n",
      "C00580100    2000000.00\n",
      "C00580100    2000000.00\n",
      "C00580100    2000000.00\n",
      "C00458844    2001396.10\n",
      "C00575795    2013822.02\n",
      "C00577130    2107600.00\n",
      "C00577130    2123668.00\n",
      "C00575795    2180619.15\n",
      "C00580100    2470169.00\n",
      "C00577130    2474080.00\n",
      "C00577130    2493218.00\n",
      "C00577130    2500313.00\n",
      "C00575795    2577123.74\n",
      "C00575795    2684095.87\n",
      "C00577130    2901400.00\n",
      "C00577130    3000000.00\n",
      "C00577130    3300000.00\n",
      "C00577130    3607900.08\n",
      "C00577130    3711000.00\n",
      "C00575795    3733548.03\n",
      "C00575795    4093371.90\n",
      "C00577130    4096202.00\n",
      "C00577130    4235600.00\n",
      "C00577130    4424744.46\n",
      "C00574624    5116968.21\n",
      "C00577130    6000000.00\n",
      "C00577130    6118581.00\n",
      "C00577130    6119501.34\n",
      "Name: recipient_nm, dtype: float64\n"
     ]
    },
    {
     "name": "stderr",
     "output_type": "stream",
     "text": [
      "/Users/prashantsaxena/anaconda/lib/python2.7/site-packages/ipykernel/__main__.py:1: FutureWarning: order is deprecated, use sort_values(...)\n",
      "  if __name__ == '__main__':\n"
     ]
    }
   ],
   "source": [
    "fec_sorted_series = fec_df['recipient_nm'].order()\n",
    "print fec_sorted_series"
   ]
  },
  {
   "cell_type": "code",
   "execution_count": 26,
   "metadata": {
    "collapsed": false
   },
   "outputs": [
    {
     "name": "stdout",
     "output_type": "stream",
     "text": [
      "174608\n"
     ]
    }
   ],
   "source": [
    "import matplotlib.pyplot as plt\n",
    "import numpy as np\n",
    "type(fec_sorted_series.as_matrix())\n",
    "array = fec_sorted_series.as_matrix()\n",
    "print array.size"
   ]
  },
  {
   "cell_type": "code",
   "execution_count": 27,
   "metadata": {
    "collapsed": false
   },
   "outputs": [
    {
     "name": "stdout",
     "output_type": "stream",
     "text": [
      "Populating the interactive namespace from numpy and matplotlib\n"
     ]
    },
    {
     "name": "stderr",
     "output_type": "stream",
     "text": [
      "WARNING: pylab import has clobbered these variables: ['array']\n",
      "`%matplotlib` prevents importing * from pylab and numpy\n"
     ]
    }
   ],
   "source": [
    "#plt.hist(fec_sorted_series.as_matrix(), fec_sorted_series.as_matrix().size)\n",
    "#plt.show()\n",
    "plt.scatter(array, range(array.size))\n",
    "%pylab inline"
   ]
  },
  {
   "cell_type": "code",
   "execution_count": 28,
   "metadata": {
    "collapsed": false
   },
   "outputs": [],
   "source": [
    "plt.show()"
   ]
  },
  {
   "cell_type": "code",
   "execution_count": null,
   "metadata": {
    "collapsed": true
   },
   "outputs": [],
   "source": []
  }
 ],
 "metadata": {
  "kernelspec": {
   "display_name": "Python 2",
   "language": "python",
   "name": "python2"
  },
  "language_info": {
   "codemirror_mode": {
    "name": "ipython",
    "version": 2
   },
   "file_extension": ".py",
   "mimetype": "text/x-python",
   "name": "python",
   "nbconvert_exporter": "python",
   "pygments_lexer": "ipython2",
   "version": "2.7.11"
  }
 },
 "nbformat": 4,
 "nbformat_minor": 0
}
